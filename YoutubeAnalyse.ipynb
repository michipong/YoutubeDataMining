{
 "cells": [
  {
   "cell_type": "markdown",
   "metadata": {},
   "source": [
    "# Statistische Analyse von YouTube Videos"
   ]
  },
  {
   "cell_type": "markdown",
   "metadata": {},
   "source": [
    "Importieren aller benötigter Bibliotheken"
   ]
  },
  {
   "cell_type": "code",
   "execution_count": 1,
   "metadata": {},
   "outputs": [],
   "source": [
    "import pandas as pd\n",
    "import numpy as np\n",
    "import datetime as dt"
   ]
  },
  {
   "cell_type": "markdown",
   "metadata": {},
   "source": [
    "Einlesen alle Dateien, inklusive CSV und JSON"
   ]
  },
  {
   "cell_type": "code",
   "execution_count": 2,
   "metadata": {},
   "outputs": [],
   "source": [
    "de_videos =pd.read_csv('input/DEvideos.csv')\n",
    "de_kategorien = pd.read_json('input/DE_category_id.json')\n",
    "de_kategorien = {int(category['id']): category['snippet']['title'] for category in de_kategorien['items']}\n",
    "us_videos =pd.read_csv('input/USvideos.csv')\n",
    "us_kategorien = pd.read_json('input/US_category_id.json')\n",
    "us_kategorien = {int(category['id']): category['snippet']['title'] for category in us_kategorien['items']}\n",
    "ka_videos =pd.read_csv('input/CAvideos.csv')\n",
    "ka_kategorien = pd.read_json('input/CA_category_id.json')\n",
    "ka_kategorien = {int(category['id']): category['snippet']['title'] for category in ka_kategorien['items']}\n",
    "gb_videos =pd.read_csv('input/GBvideos.csv')\n",
    "gb_kategorien = pd.read_json('input/GB_category_id.json')\n",
    "gb_kategorien = {int(category['id']): category['snippet']['title'] for category in gb_kategorien['items']}"
   ]
  },
  {
   "cell_type": "markdown",
   "metadata": {},
   "source": [
    "Zusammenfügen aller Kategorien zu einem Dictionary"
   ]
  },
  {
   "cell_type": "code",
   "execution_count": 3,
   "metadata": {
    "scrolled": false
   },
   "outputs": [],
   "source": [
    "alle_kategorien = de_kategorien\n",
    "for (key,value) in us_kategorien.items():\n",
    "    if key not in alle_kategorien:\n",
    "        alle_kategorien[key] = value\n",
    "for (key,value) in ka_kategorien.items():\n",
    "    if key not in alle_kategorien:\n",
    "        alle_kategorien[key] = value\n",
    "for (key,value) in gb_kategorien.items():\n",
    "    if key not in alle_kategorien:\n",
    "        alle_kategorien[key] = value"
   ]
  },
  {
   "cell_type": "markdown",
   "metadata": {
    "scrolled": true
   },
   "source": [
    "## Datenbereinigung und Preprocessing"
   ]
  },
  {
   "cell_type": "markdown",
   "metadata": {},
   "source": [
    "Anpassen der Datumsangaben"
   ]
  },
  {
   "cell_type": "code",
   "execution_count": 4,
   "metadata": {},
   "outputs": [],
   "source": [
    "de_videos['trending_date']=pd.to_datetime(de_videos['trending_date'], format='%y.%d.%m').dt.date\n",
    "us_videos['trending_date']=pd.to_datetime(us_videos['trending_date'], format='%y.%d.%m').dt.date\n",
    "ka_videos['trending_date']=pd.to_datetime(ka_videos['trending_date'], format='%y.%d.%m').dt.date\n",
    "gb_videos['trending_date']=pd.to_datetime(gb_videos['trending_date'], format='%y.%d.%m').dt.date"
   ]
  },
  {
   "cell_type": "code",
   "execution_count": 5,
   "metadata": {},
   "outputs": [],
   "source": [
    "de_videos['publish_date']=pd.to_datetime(de_videos['publish_time'], format='%Y-%m-%dT%H:%M:%S.%fZ').dt.date\n",
    "de_videos.drop('publish_time',axis=1,inplace=True)\n",
    "us_videos['publish_date']=pd.to_datetime(us_videos['publish_time'], format='%Y-%m-%dT%H:%M:%S.%fZ').dt.date\n",
    "us_videos.drop('publish_time',axis=1,inplace=True)\n",
    "ka_videos['publish_date']=pd.to_datetime(ka_videos['publish_time'], format='%Y-%m-%dT%H:%M:%S.%fZ').dt.date\n",
    "ka_videos.drop('publish_time',axis=1,inplace=True)\n",
    "gb_videos['publish_date']=pd.to_datetime(gb_videos['publish_time'], format='%Y-%m-%dT%H:%M:%S.%fZ').dt.date\n",
    "gb_videos.drop('publish_time',axis=1,inplace=True)"
   ]
  },
  {
   "cell_type": "markdown",
   "metadata": {},
   "source": [
    "Einträge mit null-Value bei Description mit einem Leerstring füllen"
   ]
  },
  {
   "cell_type": "code",
   "execution_count": 6,
   "metadata": {},
   "outputs": [],
   "source": [
    "de_videos['description'] = de_videos['description'].fillna('')\n",
    "us_videos['description'] = us_videos['description'].fillna('')\n",
    "ka_videos['description'] = ka_videos['description'].fillna('')\n",
    "gb_videos['description'] = gb_videos['description'].fillna('')"
   ]
  },
  {
   "cell_type": "markdown",
   "metadata": {},
   "source": [
    "Füllen der Kategorie-ID's mit den entsprechenden Strings"
   ]
  },
  {
   "cell_type": "code",
   "execution_count": 7,
   "metadata": {},
   "outputs": [],
   "source": [
    "de_videos.insert(16,'category', de_videos['category_id'].map(alle_kategorien))\n",
    "de_videos.drop('category_id',axis=1,inplace=True)\n",
    "us_videos.insert(16,'category', us_videos['category_id'].map(alle_kategorien))\n",
    "us_videos.drop('category_id',axis=1,inplace=True)\n",
    "ka_videos.insert(16,'category', ka_videos['category_id'].map(alle_kategorien))\n",
    "ka_videos.drop('category_id',axis=1,inplace=True)\n",
    "gb_videos.insert(16,'category', gb_videos['category_id'].map(alle_kategorien))\n",
    "gb_videos.drop('category_id',axis=1,inplace=True)"
   ]
  },
  {
   "cell_type": "markdown",
   "metadata": {},
   "source": [
    "## Analyse"
   ]
  },
  {
   "cell_type": "markdown",
   "metadata": {},
   "source": [
    "### Standardabfragen zu Views/ Likes/ Dislikes und Comments"
   ]
  },
  {
   "cell_type": "markdown",
   "metadata": {},
   "source": [
    "### Abfragen zum Titel"
   ]
  },
  {
   "cell_type": "markdown",
   "metadata": {},
   "source": [
    "### Korrelation von Trend Videos zwischen den einzelnen Ländern"
   ]
  },
  {
   "cell_type": "markdown",
   "metadata": {},
   "source": [
    "### Abfragen zu den Kategorien"
   ]
  },
  {
   "cell_type": "markdown",
   "metadata": {},
   "source": [
    "### Abfragen zum Veröffentlichungsdatum und zum Trend Datum"
   ]
  },
  {
   "cell_type": "markdown",
   "metadata": {},
   "source": [
    "### Abfragen zu den Tags"
   ]
  }
 ],
 "metadata": {
  "kernelspec": {
   "display_name": "Python 3",
   "language": "python",
   "name": "python3"
  },
  "language_info": {
   "codemirror_mode": {
    "name": "ipython",
    "version": 3
   },
   "file_extension": ".py",
   "mimetype": "text/x-python",
   "name": "python",
   "nbconvert_exporter": "python",
   "pygments_lexer": "ipython3",
   "version": "3.7.4"
  }
 },
 "nbformat": 4,
 "nbformat_minor": 2
}
