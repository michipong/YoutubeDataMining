{
 "cells": [
  {
   "cell_type": "code",
   "execution_count": 2,
   "metadata": {},
   "outputs": [],
   "source": [
    "import pandas as pd"
   ]
  },
  {
   "cell_type": "code",
   "execution_count": 4,
   "metadata": {},
   "outputs": [],
   "source": [
    "de_videos =pd.read_csv('input/DEvideos.csv')\n",
    "de_kategorien = pd.read_json('input/DE_category_id.json')\n",
    "de_kategorien = {int(category['id']): category['snippet']['title'] for category in de_kategorien['items']}\n",
    "us_videos =pd.read_csv('input/USvideos.csv')\n",
    "us_kategorien = pd.read_json('input/US_category_id.json')\n",
    "us_kategorien = {int(category['id']): category['snippet']['title'] for category in us_kategorien['items']}\n",
    "ka_videos =pd.read_csv('input/CAvideos.csv')\n",
    "ka_kategorien = pd.read_json('input/CA_category_id.json')\n",
    "ka_kategorien = {int(category['id']): category['snippet']['title'] for category in ka_kategorien['items']}\n",
    "gb_videos =pd.read_csv('input/GBvideos.csv')\n",
    "gb_kategorien = pd.read_json('input/GB_category_id.json')\n",
    "gb_kategorien = {int(category['id']): category['snippet']['title'] for category in gb_kategorien['items']}"
   ]
  },
  {
   "cell_type": "code",
   "execution_count": null,
   "metadata": {
    "scrolled": false
   },
   "outputs": [],
   "source": []
  },
  {
   "cell_type": "code",
   "execution_count": null,
   "metadata": {
    "scrolled": true
   },
   "outputs": [],
   "source": []
  },
  {
   "cell_type": "code",
   "execution_count": null,
   "metadata": {},
   "outputs": [],
   "source": []
  }
 ],
 "metadata": {
  "kernelspec": {
   "display_name": "Python 3",
   "language": "python",
   "name": "python3"
  },
  "language_info": {
   "codemirror_mode": {
    "name": "ipython",
    "version": 3
   },
   "file_extension": ".py",
   "mimetype": "text/x-python",
   "name": "python",
   "nbconvert_exporter": "python",
   "pygments_lexer": "ipython3",
   "version": "3.7.4"
  }
 },
 "nbformat": 4,
 "nbformat_minor": 2
}
